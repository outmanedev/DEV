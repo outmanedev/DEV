{
  "nbformat": 4,
  "nbformat_minor": 0,
  "metadata": {
    "colab": {
      "provenance": [],
      "authorship_tag": "ABX9TyMKDyiEsivO/5Sb5Vdt7vGn",
      "include_colab_link": true
    },
    "kernelspec": {
      "name": "python3",
      "display_name": "Python 3"
    },
    "language_info": {
      "name": "python"
    }
  },
  "cells": [
    {
      "cell_type": "markdown",
      "metadata": {
        "id": "view-in-github",
        "colab_type": "text"
      },
      "source": [
        "<a href=\"https://colab.research.google.com/github/outmanedev/DEV/blob/main/Atelier3.ipynb\" target=\"_parent\"><img src=\"https://colab.research.google.com/assets/colab-badge.svg\" alt=\"Open In Colab\"/></a>"
      ]
    },
    {
      "cell_type": "markdown",
      "source": [
        "Définir une classe Vecteur2D avec un constructeur fournissant les coordonnées par\n",
        "défaut d’un vecteur du plan (par exemple : x = 0 et y = 0).\n",
        "Dans le programme principal, instanciez un Vecteur2D sans paramètre,\n",
        "un Vecteur2D avec ses deux paramètres, et affichez-les.\n",
        "\n",
        "Enrichissez la classe Vecteur2D précédente en lui ajoutant une méthode d’affichage et\n",
        "une méthode de surcharge d’addition de deux vecteurs du plan.\n",
        "Dans le programme principal, instanciez deux Vecteur2D, affichez-les et affichez leur\n",
        "somme."
      ],
      "metadata": {
        "id": "sXWRxYisjjQN"
      }
    },
    {
      "cell_type": "code",
      "execution_count": 2,
      "metadata": {
        "colab": {
          "base_uri": "https://localhost:8080/"
        },
        "id": "U9tg-o0ei84w",
        "outputId": "02753851-ec99-4cda-bb59-6a870cf79d19"
      },
      "outputs": [
        {
          "output_type": "stream",
          "name": "stdout",
          "text": [
            "(0, 0)\n",
            "(3, 5)\n",
            "(2, -5)\n",
            "(6, 8)\n",
            "(8, 3)\n"
          ]
        }
      ],
      "source": [
        "# class\n",
        "class Vecteur2D:\n",
        "    def __init__(self,x=0,y=0): \n",
        "        self.x=(x)          # initialisation de x et y, attributs d'instance\n",
        "        self.y=(y)\n",
        "    def __str__(self): \n",
        "        return f\"({self.x}, {self.y})\"\n",
        "    def afficher(self):         # la méthode d'afficher\n",
        "        return \"(\" + str(self.x) + \", \"+ str(self.y) + \")\"    \n",
        "    def __add__(self,p):             # la méthode de surcharge add\n",
        "        return Vecteur2D(self.x+p.x,self.y+p.y)\n",
        "                \n",
        " # programme principal -----------------------------------------------\n",
        "        \n",
        "# instanciation de vecteur2D sans parametre\n",
        "vec1= Vecteur2D()\n",
        "print(vec1)\n",
        "# instanciation de vecteur2D avec ses deux parametre\n",
        "vec1=Vecteur2D(3,5)\n",
        "print(vec1)\n",
        "\n",
        "#instanciation deux vecteur2D :\n",
        "vec3=Vecteur2D(2,-5)\n",
        "vec4=Vecteur2D(6,8)\n",
        "# affichage les deux vecteur\n",
        "print(vec3)\n",
        "print(vec4)\n",
        "\n",
        "# la somme de deux vecteur\n",
        "vect5=vec3+vec4\n",
        "# afficher la somme de deux vecteur\n",
        "print(vect5)\n",
        "        \n",
        "    "
      ]
    },
    {
      "cell_type": "markdown",
      "source": [
        "Définir une classe Rectangle avec un constructeur donnant des valeurs\n",
        "(longueur et largeur) par défaut et un attribut nom = \"rectangle\", une méthode\n",
        "d’affichage et une méthode surface renvoyant la surface d’une instance.\n",
        "Définir une classe Carre héritant de Rectangle et qui surcharge l’attribut\n",
        "d’instance : nom = \"carré\".\n",
        "Dans le programme principal, instanciez un Rectangle et un Carre et affichez-les."
      ],
      "metadata": {
        "id": "gQUoUIthzYaL"
      }
    },
    {
      "cell_type": "code",
      "source": [
        "class rectangle:   # class rectangle\n",
        "    def __init__(self,longueur,largeur): # constructeur ckass rectangle\n",
        "        self.name= \"rectangle\"\n",
        "        self.longueur=longueur\n",
        "        self.largeur=largeur\n",
        "    def afficher(self):\n",
        "            print(\"{ \" + self.name + \" , longueur: \" + str(self.longueur) + \" , largeur: \" + str(self.largeur) + \" }\")\n",
        "    def surface(self,):\n",
        "        return (self.longueur * self.largeur)\n",
        "    # class carre\n",
        "class carre(rectangle):\n",
        "    def __init__(self,longueur):# constructeur class carre\n",
        "        rectangle.__init__(self,longueur, longueur) # constructeur class parent\n",
        "        self.name = \"carré\"\n",
        "    def afficher(self):\n",
        "        print(print(\"{ \" + self.name + \" , longueur: \" + str(self.longueur) + \" }\"))\n",
        "\n",
        "#prorgamme principal--------------\n",
        "# instance de la class rectangle\n",
        "rec1 = rectangle(13, 15)\n",
        "rec1.afficher()\n",
        "\n",
        "print(\"---------------------------------\")\n",
        "#  instance de la classe Carré\n",
        "carre1=carre(20)\n",
        "carre1.afficher()\n"
      ],
      "metadata": {
        "colab": {
          "base_uri": "https://localhost:8080/"
        },
        "id": "PJxE7OAEzJHM",
        "outputId": "81c3e4d2-d064-4ab3-a2f0-073fb2dadb46"
      },
      "execution_count": 3,
      "outputs": [
        {
          "output_type": "stream",
          "name": "stdout",
          "text": [
            "{ rectangle , longueur: 13 , largeur: 15 }\n",
            "---------------------------------\n",
            "{ carré , longueur: 20 }\n",
            "None\n"
          ]
        }
      ]
    },
    {
      "cell_type": "markdown",
      "source": [
        "Définir une classe Point avec un constructeur fournissant les coordonnées par défaut\n",
        "d’un point du plan (par exemple : x = 0.0 et y = 0.0).\n",
        "Définir une classe Segment dont le constructeur possède quatre paramètres : deux\n",
        "pour l’origine et deux pour l’extrémité. Ce constructeur définit deux\n",
        "attributs : orig et extrem, instances de la classe Point. De cette manière, vous concevez\n",
        "une classe composite : la classe Segment est composée de deux instances de la\n",
        "classe Point.\n",
        "Ajouter une méthode d’affichage.\n",
        "Enfin écrire un auto-test qui affiche une instance de Segment initialisée par les valeurs\n",
        "1, 2, 3 et 4."
      ],
      "metadata": {
        "id": "UBqZFgN42Y3d"
      }
    },
    {
      "cell_type": "code",
      "source": [
        "                                 # La classe Point\n",
        "class Point:\n",
        "    def __init__(self, x=0.0, y=0.0):\n",
        "        self.x = x\n",
        "        self.y = y\n",
        "    def __str__(self):\n",
        "            return f\"({self.x}, {self.y})\"\n",
        " #-------------------------------------------------       \n",
        "        \n",
        "class Segment:  # La classe Segment                           \n",
        "    def __init__(self, x1=0.0, y1=0.0, x2=0.0, y2=0.0): # Constructor de la classe Segment\n",
        "        self.orig = Point(x1, y1)\n",
        "        self.extrem = Point(x2, y2)\n",
        "        \n",
        "    def __str__(self):\n",
        "        return f\"Segment de {self.orig} à {self.extrem}\"\n",
        "#------------------------------------------------------\n",
        "print(\"---------------------------------\")\n",
        "# Une instance de la classe Point\n",
        "point = Point(1,4)\n",
        "\n",
        "# L'affichage de l'instance\n",
        "print(\"Le point \",point)\n",
        "\n",
        "print(\"---------------------------------\")\n",
        "# Une instance de la classe Segment\n",
        "segment = Segment(1, 2, 3, 4)\n",
        "\n",
        "# L'affichage de l'instance.\n",
        "print(segment)"
      ],
      "metadata": {
        "colab": {
          "base_uri": "https://localhost:8080/"
        },
        "id": "smNf0Vub2X5s",
        "outputId": "0e0921ef-8289-465a-9022-809afccdb882"
      },
      "execution_count": 4,
      "outputs": [
        {
          "output_type": "stream",
          "name": "stdout",
          "text": [
            "---------------------------------\n",
            "Le point  (1, 4)\n",
            "---------------------------------\n",
            "Segment de (1, 2) à (3, 4)\n"
          ]
        }
      ]
    }
  ]
}