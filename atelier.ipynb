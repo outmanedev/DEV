{
  "nbformat": 4,
  "nbformat_minor": 0,
  "metadata": {
    "colab": {
      "provenance": [],
      "authorship_tag": "ABX9TyNsLhiqEPbx8jeBpARsPG1h",
      "include_colab_link": true
    },
    "kernelspec": {
      "name": "python3",
      "display_name": "Python 3"
    },
    "language_info": {
      "name": "python"
    }
  },
  "cells": [
    {
      "cell_type": "markdown",
      "metadata": {
        "id": "view-in-github",
        "colab_type": "text"
      },
      "source": [
        "<a href=\"https://colab.research.google.com/github/outmanedev/DEV/blob/main/atelier.ipynb\" target=\"_parent\"><img src=\"https://colab.research.google.com/assets/colab-badge.svg\" alt=\"Open In Colab\"/></a>"
      ]
    },
    {
      "cell_type": "markdown",
      "source": [
        "Ecrire une fonction qui renvoie la puissance d’un nombre $X^n $:\n"
      ],
      "metadata": {
        "id": "HmtHS_kdhXWy"
      }
    },
    {
      "cell_type": "code",
      "execution_count": 3,
      "metadata": {
        "colab": {
          "base_uri": "https://localhost:8080/"
        },
        "id": "zENvqXbxtMHC",
        "outputId": "436784e8-0448-4d2d-add1-01b276d025f6"
      },
      "outputs": [
        {
          "output_type": "stream",
          "name": "stdout",
          "text": [
            "Saisir un Nombre :2\n",
            "Saisir un Nombre :3\n",
            "la puissance d’un nombre : 8\n"
          ]
        }
      ],
      "source": [
        "def puissance(x,n) :\n",
        "    P=pow(x,n)\n",
        "    return P\n",
        "x= int(input(\"Saisir un Nombre :\"))\n",
        "n= int(input(\"Saisir un Nombre :\"))\n",
        "print(\"la puissance d’un nombre :\",puissance(x,n))"
      ]
    },
    {
      "cell_type": "markdown",
      "source": [],
      "metadata": {
        "id": "2PbgbA4BtgVs"
      }
    }
  ]
}