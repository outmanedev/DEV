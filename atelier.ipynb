{
  "cells": [
    {
      "cell_type": "markdown",
      "metadata": {
        "id": "view-in-github",
        "colab_type": "text"
      },
      "source": [
        "<a href=\"https://colab.research.google.com/github/outmanedev/DEV/blob/main/atelier.ipynb\" target=\"_parent\"><img src=\"https://colab.research.google.com/assets/colab-badge.svg\" alt=\"Open In Colab\"/></a>"
      ]
    },
    {
      "cell_type": "markdown",
      "metadata": {
        "id": "HmtHS_kdhXWy"
      },
      "source": [
        "1.Ecrire une fonction qui renvoie la puissance d’un nombre $X^n $:\n"
      ]
    },
    {
      "cell_type": "code",
      "execution_count": null,
      "metadata": {
        "colab": {
          "base_uri": "https://localhost:8080/"
        },
        "id": "zENvqXbxtMHC",
        "outputId": "436784e8-0448-4d2d-add1-01b276d025f6"
      },
      "outputs": [
        {
          "name": "stdout",
          "output_type": "stream",
          "text": [
            "Saisir un Nombre :2\n",
            "Saisir un Nombre :3\n",
            "la puissance d’un nombre : 8\n"
          ]
        }
      ],
      "source": [
        "def puissance(x,n) :\n",
        "    P=pow(x,n)\n",
        "    return P\n",
        "x= int(input(\"Saisir un Nombre :\"))\n",
        "n= int(input(\"Saisir un Nombre :\"))\n",
        "print(\"la puissance d’un nombre :\",puissance(x,n))"
      ]
    },
    {
      "cell_type": "markdown",
      "metadata": {
        "id": "2PbgbA4BtgVs"
      },
      "source": [
        "2.Ecrire une fonction python qui calcul la factorielle d’un nombre donné :\n"
      ]
    },
    {
      "cell_type": "code",
      "execution_count": null,
      "metadata": {
        "colab": {
          "base_uri": "https://localhost:8080/"
        },
        "id": "EA3TAIJrkLzN",
        "outputId": "95f72c9f-00b5-4ccd-edaa-be466283f003"
      },
      "outputs": [
        {
          "name": "stdout",
          "output_type": "stream",
          "text": [
            "enter a number : 2\n",
            "2\n"
          ]
        }
      ],
      "source": [
        "n=int(input(\"enter a number : \"))\n",
        "def fact(n) :\n",
        "    F=1\n",
        "    for i in range(1,n+1) :\n",
        "        F=F*i \n",
        "    return F   \n",
        "print(fact(n))"
      ]
    },
    {
      "cell_type": "markdown",
      "metadata": {
        "id": "E3T0TBRkqCVy"
      },
      "source": [
        "3.Ecrire une fonction en Python pour trouver la somme des séries 1! / 1 + 2! / 2 + 3! / 3 +\n",
        "4! / 4 + 5! / 5 en utilisant la fonction."
      ]
    },
    {
      "cell_type": "code",
      "execution_count": null,
      "metadata": {
        "colab": {
          "base_uri": "https://localhost:8080/"
        },
        "id": "Z6dJSVXnqRrT",
        "outputId": "3dbe6972-da02-47e6-e3cb-0484ee4a605e"
      },
      "outputs": [
        {
          "name": "stdout",
          "output_type": "stream",
          "text": [
            "Somme:  34.0\n"
          ]
        }
      ],
      "source": [
        "def SumSeries(num):\n",
        "    sum=0\n",
        "    fact=1\n",
        "    for i in range(1, 6):\n",
        "        fact *= i\n",
        "        sum = sum + (fact/ i)\n",
        "    return sum\n",
        "n=100\n",
        "print(\"Somme: \", SumSeries(n))"
      ]
    },
    {
      "cell_type": "markdown",
      "metadata": {
        "id": "j2M3jzJnqfYQ"
      },
      "source": [
        "4.Ecrire une fonction en Python pour convertir le nombre décimal en nombre binaire.\n"
      ]
    },
    {
      "cell_type": "code",
      "execution_count": 3,
      "metadata": {
        "colab": {
          "base_uri": "https://localhost:8080/"
        },
        "id": "iHUuq-r9qeue",
        "outputId": "85503de5-a112-4b22-87c1-a441269ba861"
      },
      "outputs": [
        {
          "output_type": "stream",
          "name": "stdout",
          "text": [
            "Entrez un nombre decimal: 144\n",
            "10010000"
          ]
        }
      ],
      "source": [
        "def conversion(num):\n",
        "    if num > 1:\n",
        "        conversion(num // 2)\n",
        "    print(num % 2, end='')\n",
        "# Demande à l'utilisateur d'entrer un nombre\n",
        "number = int(input(\"Entrez un nombre decimal: \"))\n",
        "conversion(number)"
      ]
    },
    {
      "cell_type": "markdown",
      "metadata": {
        "id": "vcaj5u7vrPdT"
      },
      "source": [
        "5.Ecrire une fonction en Python pour calculer la somme des nombres de 1 à n.\n"
      ]
    },
    {
      "cell_type": "code",
      "execution_count": null,
      "metadata": {
        "colab": {
          "base_uri": "https://localhost:8080/"
        },
        "id": "5-BI6zjWrYA6",
        "outputId": "1392cfb4-aa3f-45a2-f569-10f21913cb2a"
      },
      "outputs": [
        {
          "name": "stdout",
          "output_type": "stream",
          "text": [
            "Tapez la valeur : 12\n",
            "La somme 1+2+....+n : 78\n"
          ]
        }
      ],
      "source": [
        "def sum(n):\n",
        "    s=0\n",
        "    for i in range(0,n+1) :\n",
        "        s=s+i\n",
        "    return s\n",
        "n=int(input(\"Tapez la valeur : \"))\n",
        "print(\"La somme 1+2+....+n :\",sum(n))"
      ]
    },
    {
      "cell_type": "markdown",
      "metadata": {
        "id": "u2ZxO_OtrvSo"
      },
      "source": [
        "6.Ecrire une fonction en Python pour compter les chiffres d'un nombre donné.\n"
      ]
    },
    {
      "cell_type": "code",
      "execution_count": null,
      "metadata": {
        "colab": {
          "base_uri": "https://localhost:8080/"
        },
        "id": "WHc6C3lfr17y",
        "outputId": "b8d35559-b97a-4aad-8e00-6f271ff85fcc"
      },
      "outputs": [
        {
          "name": "stdout",
          "output_type": "stream",
          "text": [
            "entre une numero :14\n",
            "2\n"
          ]
        }
      ],
      "source": [
        "def compte(n):\n",
        "    i=0\n",
        "    while n!=0:\n",
        "        n=n//10\n",
        "        i=i+1\n",
        "    return i\n",
        "n=int(input(\"entre une numero :\"))\n",
        "print(compte(n))"
      ]
    },
    {
      "cell_type": "markdown",
      "metadata": {
        "id": "oity6z9xr_9X"
      },
      "source": [
        "7.Ecrire une fonction Python pour trouver la fréquence d’un caractère dans une chaîne.\n"
      ]
    },
    {
      "cell_type": "code",
      "execution_count": null,
      "metadata": {
        "colab": {
          "base_uri": "https://localhost:8080/"
        },
        "id": "K3cEULAnsEE_",
        "outputId": "4db1280d-667e-4902-e244-304b6e9b68f3"
      },
      "outputs": [
        {
          "name": "stdout",
          "output_type": "stream",
          "text": [
            "7\n"
          ]
        }
      ],
      "source": [
        "def freq(chaine,c):\n",
        "    i=0\n",
        "    for x in chaine:\n",
        "        if x==c:\n",
        "            i=i+1\n",
        "    return i\n",
        "x = \"the fisrt test ttt\" \n",
        "print(freq(x,'t')) "
      ]
    },
    {
      "cell_type": "markdown",
      "metadata": {
        "id": "5WXMkDuEsSDr"
      },
      "source": [
        "8.Ecrire une fonction qui cherche un élément dans une matrice puis renvoi sa position «\n"
      ]
    },
    {
      "cell_type": "code",
      "execution_count": null,
      "metadata": {
        "id": "vBJju7DTsjUq"
      },
      "outputs": [],
      "source": [
        "matrice=[23, 43, 33, 9, 41],[67, 32, 67, 27, 85],[38, 79, 52, 40, 58],[84, 76, 44, 9, 2]\n",
        "\n",
        "def find(matrice,value):\n",
        "    for i,v in enumerate(matrice):\n",
        "        if value in v:\n",
        "            return {'ligne':i+1,'colonne':v.index(value)+1}\n",
        "    return{'ligne':-1,'colonne':-1}\n",
        "print(find(matrice,9))"
      ]
    },
    {
      "cell_type": "markdown",
      "metadata": {
        "id": "HPGDwGkpsqYZ"
      },
      "source": [
        "9.Ecrire un programme python composé de plusieurs fonctions :\n"
      ]
    },
    {
      "cell_type": "code",
      "execution_count": 1,
      "metadata": {
        "colab": {
          "base_uri": "https://localhost:8080/"
        },
        "id": "Hxp4kU3wsxpd",
        "outputId": "66e028f4-479f-48a6-9158-d808be656185"
      },
      "outputs": [
        {
          "output_type": "stream",
          "name": "stdout",
          "text": [
            "la moyenne de votre liste est : 5.5\n",
            "------------------Menu------------\n",
            "pour le Max ,tapez 1 :\n",
            "pour le Min ,tapez 2 :\n",
            " saissire votre choix : 2\n",
            "le minimum de votre liste est :  2\n",
            "la mediane de votre liste est :  27.5\n",
            "le mode de votre liste est : 2\n",
            "la variance de votre liste est :  1.23\n"
          ]
        }
      ],
      "source": [
        "\n",
        "\n",
        "liste=[2,5,8,7,3,9,9,2,2,8]\n",
        "\n",
        "def Avg(liste) :\n",
        "    somme = sum(liste)\n",
        "    moyenne = somme /len(liste)\n",
        "    return moyenne\n",
        "print(\"la moyenne de votre liste est :\",round(Avg(liste),2))\n",
        "print(\"------------------Menu------------\")\n",
        "print(\"pour le Max ,tapez 1 :\")\n",
        "print(\"pour le Min ,tapez 2 :\")\n",
        "choix=int(input(\" saissire votre choix : \"))\n",
        "def Min(liste):\n",
        "    minimum = liste[0]\n",
        "    for x in liste:\n",
        "        if x < minimum :\n",
        "            minimum = x\n",
        "    return minimum\n",
        "def Max(liste):\n",
        "    maximum = liste[0]\n",
        "    for x in liste:\n",
        "        if x > maximum :\n",
        "           maximum = x\n",
        "    return maximum\n",
        "if choix== 2:\n",
        "    print(\"le minimum de votre liste est : \",Min(liste))\n",
        "elif choix==1:\n",
        "    print(\"le maximum de votre liste est :\",Max(liste))\n",
        "    \n",
        "def mediane(liste):\n",
        "    for i in range(1,len(liste)):\n",
        "        n=sum(liste)\n",
        "        m=n/2\n",
        "    return m\n",
        "print(\"la mediane de votre liste est : \",round(mediane(liste),2))\n",
        "\n",
        "def mode(liste):\n",
        "    counter=0\n",
        "    num=liste[0]\n",
        "    for i in (liste):\n",
        "        curr_frequence=liste.count(i)\n",
        "        if(curr_frequence>counter):\n",
        "            counter=curr_frequence\n",
        "            num=i\n",
        "            if len(set(liste))==len(liste):\n",
        "                return 'no mode'\n",
        "            return num\n",
        "print(\"le mode de votre liste est :\",mode(liste))\n",
        " \n",
        "def var(liste):\n",
        "    moy=Avg(liste)\n",
        "    var=0\n",
        "    for m in (liste):\n",
        "        var=var+(m-moy)**2\n",
        "        return var/len(liste)\n",
        "print(\"la variance de votre liste est : \",round(var(liste),2))\n",
        "     \n",
        "    \n",
        "    \n",
        "     \n",
        "    \n"
      ]
    }
  ],
  "metadata": {
    "colab": {
      "provenance": [],
      "authorship_tag": "ABX9TyMWZuZ64MF0T8UchXefiTlp",
      "include_colab_link": true
    },
    "kernelspec": {
      "display_name": "Python 3",
      "name": "python3"
    },
    "language_info": {
      "name": "python"
    }
  },
  "nbformat": 4,
  "nbformat_minor": 0
}