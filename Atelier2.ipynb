{
  "nbformat": 4,
  "nbformat_minor": 0,
  "metadata": {
    "colab": {
      "provenance": [],
      "authorship_tag": "ABX9TyP7+VBGBQvbxoXprSEVkoIY",
      "include_colab_link": true
    },
    "kernelspec": {
      "name": "python3",
      "display_name": "Python 3"
    },
    "language_info": {
      "name": "python"
    }
  },
  "cells": [
    {
      "cell_type": "markdown",
      "metadata": {
        "id": "view-in-github",
        "colab_type": "text"
      },
      "source": [
        "<a href=\"https://colab.research.google.com/github/outmanedev/DEV/blob/main/Atelier2.ipynb\" target=\"_parent\"><img src=\"https://colab.research.google.com/assets/colab-badge.svg\" alt=\"Open In Colab\"/></a>"
      ]
    },
    {
      "cell_type": "markdown",
      "source": [],
      "metadata": {
        "id": "xJdekVEVNrXD"
      }
    },
    {
      "cell_type": "markdown",
      "source": [],
      "metadata": {
        "id": "E9eAnXB8NrTK"
      }
    },
    {
      "cell_type": "markdown",
      "source": [
        "\n",
        "1. Créer une liste en choisissant des éléments d'index impair dans la première liste et des\n",
        "éléments d'index pair dans la seconde.\n",
        "Étant donné deux listes, l1 et l2, écrivez un programme pour créer une troisième liste l3 en\n",
        "choisissant un élément d'indice impair dans la liste l1 et des éléments d'indice pair dans la liste\n",
        "l2.\n",
        "---\n",
        "\n"
      ],
      "metadata": {
        "id": "KqXl-3e2Nivy"
      }
    },
    {
      "cell_type": "code",
      "execution_count": 6,
      "metadata": {
        "colab": {
          "base_uri": "https://localhost:8080/"
        },
        "id": "zhz0ypIoNZjT",
        "outputId": "163285c2-f48f-4149-fe20-ac67c7b02227"
      },
      "outputs": [
        {
          "output_type": "stream",
          "name": "stdout",
          "text": [
            "la liste l3 est : [3, 9, 15, 21, 4, 8, 12, 16, 20, 24, 28]\n"
          ]
        }
      ],
      "source": [
        "l1=[3,6,9,12,15,18,21]\n",
        "l2=[4,8,12,16,20,24,28]\n",
        "i=0\n",
        "l3=[]\n",
        "for i in l1:\n",
        "    if i%2!=0:\n",
        "        l3.append(i) \n",
        "for i in l2:\n",
        "    if i%2==0:\n",
        "        l3.append(i)\n",
        "print (\"la liste l3 est :\",l3)"
      ]
    },
    {
      "cell_type": "markdown",
      "source": [
        "2. Deviser la liste en 3 morceaux égaux et inverser chaque morceau"
      ],
      "metadata": {
        "id": "cWxc4Tj6NtMa"
      }
    },
    {
      "cell_type": "code",
      "source": [
        "list=[11, 45, 8, 23, 14, 12, 78, 45, 89]\n",
        "n=3\n",
        "for i in range(0,len(list),n) :\n",
        "    x=list[i:i+n]\n",
        "    print(x[::-1],end='')"
      ],
      "metadata": {
        "colab": {
          "base_uri": "https://localhost:8080/"
        },
        "id": "VqWC8vCFNyhV",
        "outputId": "0f8dbfa8-d211-46d1-927a-4d54dcf94d99"
      },
      "execution_count": 2,
      "outputs": [
        {
          "output_type": "stream",
          "name": "stdout",
          "text": [
            "[8, 45, 11][12, 14, 23][89, 45, 78]"
          ]
        }
      ]
    },
    {
      "cell_type": "markdown",
      "source": [
        "3. Écrire un programme pour itérer une liste donnée et compter l'occurrence de chaque élément et\n",
        "créer un dictionnaire pour montrer le nombre de chaque élément.\n"
      ],
      "metadata": {
        "id": "eAYUhJMOhBiZ"
      }
    },
    {
      "cell_type": "code",
      "source": [
        "liste =[11, 45, 8, 11, 23, 45, 23, 45, 89,12]\n",
        "dic={}\n",
        "for i in liste :\n",
        "    x=liste.count(i)\n",
        "    dic[i]= x\n",
        "print(dic)"
      ],
      "metadata": {
        "colab": {
          "base_uri": "https://localhost:8080/"
        },
        "id": "G4Rg2_GCg_qg",
        "outputId": "8d9b4d1d-af89-46ea-ab2f-fa5933111916"
      },
      "execution_count": 5,
      "outputs": [
        {
          "output_type": "stream",
          "name": "stdout",
          "text": [
            "{11: 2, 45: 3, 8: 1, 23: 2, 89: 1, 12: 1}\n"
          ]
        }
      ]
    },
    {
      "cell_type": "markdown",
      "source": [
        "4. Trouver l'intersection (commune) de deux Sets et supprimez ces éléments du premier Set"
      ],
      "metadata": {
        "id": "G0N1DjizZNIT"
      }
    },
    {
      "cell_type": "code",
      "source": [
        "set1={23, 42, 65, 57, 78, 83, 29}\n",
        "set2={57, 83, 29, 67, 73, 43, 48}\n",
        "intersection=set1.intersection(set2)\n",
        "for i in intersection :\n",
        "    set1.remove(i)\n",
        "    \n",
        "print(\"intersection :\",intersection)\n",
        "print(\"set 1 aprés suppression ces élements :\",set1)"
      ],
      "metadata": {
        "colab": {
          "base_uri": "https://localhost:8080/"
        },
        "id": "rJAVPnAuZGLt",
        "outputId": "2892e1bc-2754-4925-a678-9ab452150a40"
      },
      "execution_count": 3,
      "outputs": [
        {
          "output_type": "stream",
          "name": "stdout",
          "text": [
            "intersection : {57, 83, 29}\n",
            "set 1 aprés suppression ces élements : {65, 42, 78, 23}\n"
          ]
        }
      ]
    },
    {
      "cell_type": "code",
      "source": [],
      "metadata": {
        "id": "ikvzfOKZeydY"
      },
      "execution_count": null,
      "outputs": []
    },
    {
      "cell_type": "code",
      "source": [],
      "metadata": {
        "id": "kZBi-hrzeyaP"
      },
      "execution_count": null,
      "outputs": []
    },
    {
      "cell_type": "markdown",
      "source": [
        "5. Itérer une liste donnée et vérifier si un élément donné existe en tant que valeur de clé dans\n",
        "un dictionnaire. Sinon, supprimez-le de la liste"
      ],
      "metadata": {
        "id": "J_aFm-6berto"
      }
    },
    {
      "cell_type": "code",
      "source": [
        "liste=[47, 64, 69, 37, 76, 83, 95, 97]\n",
        "dic={'Yassine':47, 'Imane':69, 'Mohammed':76, 'Abir':97}\n",
        "l2=[]\n",
        "for x in dic.values() :\n",
        "    if x in liste :\n",
        "        l2.append(x)\n",
        "print(l2)\n",
        "     "
      ],
      "metadata": {
        "colab": {
          "base_uri": "https://localhost:8080/"
        },
        "id": "SUm9q6Vdep4C",
        "outputId": "f4393ddd-b473-4178-9912-846a7177f480"
      },
      "execution_count": 4,
      "outputs": [
        {
          "output_type": "stream",
          "name": "stdout",
          "text": [
            "[47, 69, 76, 97]\n"
          ]
        }
      ]
    }
  ]
}